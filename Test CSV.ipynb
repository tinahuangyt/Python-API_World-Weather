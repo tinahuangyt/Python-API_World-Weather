{
 "cells": [
  {
   "cell_type": "code",
   "execution_count": 2,
   "metadata": {},
   "outputs": [
    {
     "data": {
      "text/html": [
       "<div>\n",
       "<style scoped>\n",
       "    .dataframe tbody tr th:only-of-type {\n",
       "        vertical-align: middle;\n",
       "    }\n",
       "\n",
       "    .dataframe tbody tr th {\n",
       "        vertical-align: top;\n",
       "    }\n",
       "\n",
       "    .dataframe thead th {\n",
       "        text-align: right;\n",
       "    }\n",
       "</style>\n",
       "<table border=\"1\" class=\"dataframe\">\n",
       "  <thead>\n",
       "    <tr style=\"text-align: right;\">\n",
       "      <th></th>\n",
       "      <th>City</th>\n",
       "      <th>Latitude</th>\n",
       "      <th>Temp (F)</th>\n",
       "      <th>Humidity</th>\n",
       "      <th>Cloudiness</th>\n",
       "      <th>Windspeed (mph)</th>\n",
       "    </tr>\n",
       "  </thead>\n",
       "  <tbody>\n",
       "    <tr>\n",
       "      <th>0</th>\n",
       "      <td>Fairview</td>\n",
       "      <td>40.81</td>\n",
       "      <td>41.04</td>\n",
       "      <td>30</td>\n",
       "      <td>1</td>\n",
       "      <td>3.65</td>\n",
       "    </tr>\n",
       "    <tr>\n",
       "      <th>1</th>\n",
       "      <td>Bonavista</td>\n",
       "      <td>48.65</td>\n",
       "      <td>30.00</td>\n",
       "      <td>57</td>\n",
       "      <td>0</td>\n",
       "      <td>21.99</td>\n",
       "    </tr>\n",
       "    <tr>\n",
       "      <th>2</th>\n",
       "      <td>Kapaa</td>\n",
       "      <td>22.08</td>\n",
       "      <td>65.97</td>\n",
       "      <td>64</td>\n",
       "      <td>90</td>\n",
       "      <td>8.05</td>\n",
       "    </tr>\n",
       "    <tr>\n",
       "      <th>3</th>\n",
       "      <td>Nikolskoye</td>\n",
       "      <td>59.70</td>\n",
       "      <td>37.85</td>\n",
       "      <td>86</td>\n",
       "      <td>90</td>\n",
       "      <td>6.71</td>\n",
       "    </tr>\n",
       "    <tr>\n",
       "      <th>4</th>\n",
       "      <td>Rio Grande</td>\n",
       "      <td>-32.03</td>\n",
       "      <td>71.60</td>\n",
       "      <td>94</td>\n",
       "      <td>90</td>\n",
       "      <td>13.87</td>\n",
       "    </tr>\n",
       "  </tbody>\n",
       "</table>\n",
       "</div>"
      ],
      "text/plain": [
       "         City  Latitude  Temp (F)  Humidity  Cloudiness  Windspeed (mph)\n",
       "0    Fairview     40.81     41.04        30           1             3.65\n",
       "1   Bonavista     48.65     30.00        57           0            21.99\n",
       "2       Kapaa     22.08     65.97        64          90             8.05\n",
       "3  Nikolskoye     59.70     37.85        86          90             6.71\n",
       "4  Rio Grande    -32.03     71.60        94          90            13.87"
      ]
     },
     "execution_count": 2,
     "metadata": {},
     "output_type": "execute_result"
    }
   ],
   "source": [
    "import pandas as pd\n",
    "file = \"world_weather_info.csv\"\n",
    "df = pd.read_csv(file)\n",
    "df.head()"
   ]
  },
  {
   "cell_type": "code",
   "execution_count": null,
   "metadata": {},
   "outputs": [],
   "source": []
  }
 ],
 "metadata": {
  "kernelspec": {
   "display_name": "Python 3",
   "language": "python",
   "name": "python3"
  },
  "language_info": {
   "codemirror_mode": {
    "name": "ipython",
    "version": 3
   },
   "file_extension": ".py",
   "mimetype": "text/x-python",
   "name": "python",
   "nbconvert_exporter": "python",
   "pygments_lexer": "ipython3",
   "version": "3.7.1"
  }
 },
 "nbformat": 4,
 "nbformat_minor": 2
}
